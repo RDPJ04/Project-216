{
 "cells": [
  {
   "cell_type": "code",
   "execution_count": 1,
   "metadata": {},
   "outputs": [],
   "source": [
    "import pandas as pd\n",
    "import numpy as np\n",
    "import seaborn as sns\n",
    "import matplotlib as plt"
   ]
  },
  {
   "cell_type": "code",
   "execution_count": 2,
   "metadata": {},
   "outputs": [],
   "source": [
    "all_player =  pd.read_csv(\"all_seasons.csv\", index_col=\"Rk\")\n",
    "all_player = all_player[['player_name', 'college']]\n",
    "all_player.rename(columns={'player_name': 'Player'}, inplace=True)\n",
    "all_player = all_player.drop_duplicates(subset=['Player'])\n",
    "contract = pd.read_csv(\"sportsref_download.csv\", index_col=\"Rk\")\n",
    "contract = contract[['Player', 'Tm', '2023-24', 'Guaranteed']]"
   ]
  },
  {
   "cell_type": "code",
   "execution_count": 3,
   "metadata": {},
   "outputs": [],
   "source": [
    "main_data = pd.merge(all_player, contract, on='Player')\n",
    "main_data = main_data.drop_duplicates(subset=['Player'])"
   ]
  }
 ],
 "metadata": {
  "kernelspec": {
   "display_name": "base",
   "language": "python",
   "name": "python3"
  },
  "language_info": {
   "codemirror_mode": {
    "name": "ipython",
    "version": 3
   },
   "file_extension": ".py",
   "mimetype": "text/x-python",
   "name": "python",
   "nbconvert_exporter": "python",
   "pygments_lexer": "ipython3",
   "version": "3.11.5"
  }
 },
 "nbformat": 4,
 "nbformat_minor": 2
}
